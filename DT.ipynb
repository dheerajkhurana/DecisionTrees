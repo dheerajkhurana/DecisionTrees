{
 "cells": [
  {
   "cell_type": "markdown",
   "metadata": {},
   "source": [
    "# Packages"
   ]
  },
  {
   "cell_type": "code",
   "execution_count": 1,
   "metadata": {},
   "outputs": [],
   "source": [
    "import pandas as pd # Package for importing the raw data\n",
    "import numpy as np # Package for Scientific computing - array\n",
    "\n",
    "from sklearn import tree  #Machine Learning package for python for DECISION TREES\n",
    "from sklearn.tree import DecisionTreeClassifier, export_graphviz\n",
    "\n",
    "from matplotlib import pyplot as plt\n",
    "\n",
    "import graphviz   # Package for visual representation of Decision Trees\n",
    "from sklearn.externals.six import StringIO"
   ]
  },
  {
   "cell_type": "markdown",
   "metadata": {},
   "source": [
    "# <font color= \"black\">Importing Datasets (Training + Testing)<font>"
   ]
  },
  {
   "cell_type": "code",
   "execution_count": 2,
   "metadata": {},
   "outputs": [],
   "source": [
    "train = pd.read_csv('training.csv')\n",
    "test = pd.read_csv('testing.csv')"
   ]
  },
  {
   "cell_type": "markdown",
   "metadata": {},
   "source": [
    "# Setting up variables for dataset values"
   ]
  },
  {
   "cell_type": "code",
   "execution_count": 3,
   "metadata": {},
   "outputs": [],
   "source": [
    "features=train.columns[1:]\n",
    "#print(features)"
   ]
  },
  {
   "cell_type": "code",
   "execution_count": 4,
   "metadata": {},
   "outputs": [],
   "source": [
    "features= ['b1', 'b2', 'b3', 'b4', 'b5', 'b6', 'b7', 'b8', 'b9',\n",
    "       'pred_minus_obs_H_b1', 'pred_minus_obs_H_b2', 'pred_minus_obs_H_b3',\n",
    "       'pred_minus_obs_H_b4', 'pred_minus_obs_H_b5', 'pred_minus_obs_H_b6',\n",
    "       'pred_minus_obs_H_b7', 'pred_minus_obs_H_b8', 'pred_minus_obs_H_b9',\n",
    "       'pred_minus_obs_S_b1', 'pred_minus_obs_S_b2', 'pred_minus_obs_S_b3',\n",
    "       'pred_minus_obs_S_b4', 'pred_minus_obs_S_b5', 'pred_minus_obs_S_b6',\n",
    "       'pred_minus_obs_S_b7', 'pred_minus_obs_S_b8', 'pred_minus_obs_S_b9']"
   ]
  },
  {
   "cell_type": "code",
   "execution_count": 5,
   "metadata": {},
   "outputs": [],
   "source": [
    "X_train= train [features];  # X_train is list of all 27 features/attributes from the training set\n",
    "Y_train= train[\"class\"]     # Y_train contains the label column 1 that has different classes/labels based on attributes\n",
    "\n",
    "X_test= test [features];\n",
    "Y_test= test [\"class\"]"
   ]
  },
  {
   "cell_type": "markdown",
   "metadata": {},
   "source": [
    "# Training the Decision Tree Classifier | DT has max_depth= 3"
   ]
  },
  {
   "cell_type": "code",
   "execution_count": 6,
   "metadata": {},
   "outputs": [
    {
     "name": "stdout",
     "output_type": "stream",
     "text": [
      "Decision Tree Trained !\n"
     ]
    }
   ],
   "source": [
    "clf = tree.DecisionTreeClassifier(max_depth=3)  #Another criteria that can be used: min_samples_split=2. max_depth can also be changed. max_depth=1 or max_depth=2 etc.\n",
    "dt = clf.fit(X_train, Y_train)\n",
    "print (\"Decision Tree Trained !\")"
   ]
  },
  {
   "cell_type": "markdown",
   "metadata": {},
   "source": [
    "# Predicting label / type of Class"
   ]
  },
  {
   "cell_type": "code",
   "execution_count": 7,
   "metadata": {},
   "outputs": [],
   "source": [
    "#Making predictions on the class type/labels by inputting the test data\n",
    "Y_predict=clf.predict(X_test)"
   ]
  },
  {
   "cell_type": "code",
   "execution_count": 8,
   "metadata": {
    "scrolled": true
   },
   "outputs": [
    {
     "data": {
      "text/plain": [
       "array(['d ', 's ', 's ', 'd ', 's ', 'd ', 'h ', 'd ', 'h ', 'd ', 's ',\n",
       "       'o ', 'd ', 'h ', 'o ', 's ', 'o ', 's ', 's ', 'o ', 'o ', 's ',\n",
       "       's ', 's ', 's ', 's ', 's ', 'd ', 's ', 'd ', 's ', 'o ', 's ',\n",
       "       's ', 'd ', 'd ', 'o ', 'd ', 's ', 'o ', 'd ', 'h ', 'o ', 'o ',\n",
       "       's ', 'd ', 's ', 's ', 'h ', 's ', 'o ', 'o ', 'h ', 'h ', 'd ',\n",
       "       's ', 'h ', 'o ', 'h ', 's ', 's ', 'd ', 's ', 's ', 'h ', 's ',\n",
       "       'd ', 'd ', 'd ', 's ', 's ', 'd ', 'o ', 's ', 'h ', 's ', 's ',\n",
       "       's ', 's ', 's ', 'd ', 's ', 's ', 'h ', 'd ', 's ', 's ', 'o ',\n",
       "       'd ', 's ', 'o ', 'd ', 's ', 's ', 's ', 'd ', 'd ', 's ', 'd ',\n",
       "       'd ', 's ', 'h ', 's ', 's ', 's ', 's ', 'o ', 'd ', 'o ', 's ',\n",
       "       'o ', 's ', 'o ', 'd ', 's ', 'o ', 'o ', 'd ', 's ', 'h ', 'd ',\n",
       "       'h ', 'd ', 's ', 's ', 'h ', 's ', 'd ', 'd ', 'o ', 's ', 'd ',\n",
       "       's ', 's ', 'd ', 's ', 'o ', 'd ', 'd ', 's ', 'd ', 'd ', 's ',\n",
       "       'o ', 's ', 'd ', 's ', 's ', 's ', 'h ', 'h ', 'd ', 'o ', 'd ',\n",
       "       'o ', 'd ', 'o ', 'd ', 'h ', 'd ', 's ', 'd ', 'd ', 's ', 's ',\n",
       "       's ', 'd ', 'o ', 's ', 'h ', 's ', 'o ', 'd ', 's ', 's ', 'h ',\n",
       "       'd ', 's ', 'd ', 'd ', 'd ', 'd ', 's ', 'd ', 'd ', 's ', 'd ',\n",
       "       'o ', 'd ', 's ', 'o ', 's ', 's ', 'h ', 'd ', 'o ', 'h ', 's ',\n",
       "       's ', 'h ', 's ', 'd ', 'd ', 's ', 's ', 's ', 'd ', 's ', 's ',\n",
       "       's ', 'o ', 'o ', 'd ', 'd ', 's ', 'o ', 'h ', 's ', 'd ', 's ',\n",
       "       's ', 's ', 'h ', 'h ', 's ', 'd ', 's ', 's ', 's ', 's ', 's ',\n",
       "       'o ', 's ', 's ', 's ', 's ', 's ', 'o ', 'd ', 'd ', 'o ', 'o ',\n",
       "       'd ', 's ', 'o ', 'd ', 's ', 'd ', 's ', 's ', 's ', 'd ', 's ',\n",
       "       'd ', 'd ', 'd ', 's ', 's ', 's ', 'h ', 'h ', 'd ', 's ', 's ',\n",
       "       's ', 's ', 's ', 's ', 'd ', 's ', 'o ', 's ', 's ', 's ', 's ',\n",
       "       's ', 's ', 'd ', 'd ', 'o ', 'd ', 'o ', 'h ', 'd ', 'h ', 'd ',\n",
       "       's ', 'h ', 's ', 'h ', 'h ', 'd ', 's ', 's ', 'h ', 'd ', 's ',\n",
       "       's ', 's ', 'd ', 's ', 's ', 'h ', 'h ', 's ', 's ', 'o ', 's ',\n",
       "       's ', 'h ', 'h ', 's ', 's ', 's ', 's ', 'h ', 's ', 'h ', 's ',\n",
       "       'd ', 'o ', 'd ', 's ', 's ', 'h '], dtype=object)"
      ]
     },
     "execution_count": 8,
     "metadata": {},
     "output_type": "execute_result"
    }
   ],
   "source": [
    "Y_predict   #Printing out the prediction of label/class type after training(previous step)"
   ]
  },
  {
   "cell_type": "markdown",
   "metadata": {},
   "source": [
    "# Accuracy"
   ]
  },
  {
   "cell_type": "code",
   "execution_count": 9,
   "metadata": {
    "scrolled": false
   },
   "outputs": [
    {
     "name": "stdout",
     "output_type": "stream",
     "text": [
      "The Accuracy of the Decision Tree is:  78.46 %\n"
     ]
    }
   ],
   "source": [
    "from sklearn.metrics import accuracy_score\n",
    "score=accuracy_score(Y_test, Y_predict)*100\n",
    "print (\"The Accuracy of the Decision Tree is: \", round(score, 2), \"%\")"
   ]
  },
  {
   "cell_type": "markdown",
   "metadata": {},
   "source": [
    "# Confusion matrix"
   ]
  },
  {
   "cell_type": "code",
   "execution_count": 10,
   "metadata": {
    "scrolled": true
   },
   "outputs": [
    {
     "name": "stdout",
     "output_type": "stream",
     "text": [
      "[[ 73   0  12  20]\n",
      " [  0  29   0   9]\n",
      " [ 10   1  34   1]\n",
      " [  5  12   0 119]]\n"
     ]
    }
   ],
   "source": [
    "from sklearn.metrics import confusion_matrix\n",
    "print(confusion_matrix(Y_test, Y_predict))\n",
    "# print(Y_test)  "
   ]
  },
  {
   "cell_type": "markdown",
   "metadata": {},
   "source": [
    "# Visualizing Decision Tree"
   ]
  },
  {
   "cell_type": "code",
   "execution_count": 11,
   "metadata": {
    "scrolled": true
   },
   "outputs": [
    {
     "data": {
      "image/svg+xml": [
       "<?xml version=\"1.0\" encoding=\"UTF-8\" standalone=\"no\"?>\r\n",
       "<!DOCTYPE svg PUBLIC \"-//W3C//DTD SVG 1.1//EN\"\r\n",
       " \"http://www.w3.org/Graphics/SVG/1.1/DTD/svg11.dtd\">\r\n",
       "<!-- Generated by graphviz version 2.38.0 (20140413.2041)\r\n",
       " -->\r\n",
       "<!-- Title: Tree Pages: 1 -->\r\n",
       "<svg width=\"971pt\" height=\"433pt\"\r\n",
       " viewBox=\"0.00 0.00 971.00 433.00\" xmlns=\"http://www.w3.org/2000/svg\" xmlns:xlink=\"http://www.w3.org/1999/xlink\">\r\n",
       "<g id=\"graph0\" class=\"graph\" transform=\"scale(1 1) rotate(0) translate(4 429)\">\r\n",
       "<title>Tree</title>\r\n",
       "<polygon fill=\"white\" stroke=\"none\" points=\"-4,4 -4,-429 967,-429 967,4 -4,4\"/>\r\n",
       "<!-- 0 -->\r\n",
       "<g id=\"node1\" class=\"node\"><title>0</title>\r\n",
       "<path fill=\"#d739e5\" fill-opacity=\"0.035294\" stroke=\"black\" d=\"M648,-425C648,-425 511,-425 511,-425 505,-425 499,-419 499,-413 499,-413 499,-354 499,-354 499,-348 505,-342 511,-342 511,-342 648,-342 648,-342 654,-342 660,-348 660,-354 660,-354 660,-413 660,-413 660,-419 654,-425 648,-425\"/>\r\n",
       "<text text-anchor=\"start\" x=\"549\" y=\"-409.8\" font-family=\"Helvetica,sans-Serif\" font-size=\"14.00\">b2 ≤ 35.5</text>\r\n",
       "<text text-anchor=\"start\" x=\"542\" y=\"-394.8\" font-family=\"Helvetica,sans-Serif\" font-size=\"14.00\">gini = 0.743</text>\r\n",
       "<text text-anchor=\"start\" x=\"532\" y=\"-379.8\" font-family=\"Helvetica,sans-Serif\" font-size=\"14.00\">samples = 198</text>\r\n",
       "<text text-anchor=\"start\" x=\"507\" y=\"-364.8\" font-family=\"Helvetica,sans-Serif\" font-size=\"14.00\">value = [54, 48, 37, 59]</text>\r\n",
       "<text text-anchor=\"start\" x=\"549\" y=\"-349.8\" font-family=\"Helvetica,sans-Serif\" font-size=\"14.00\">class = s </text>\r\n",
       "</g>\r\n",
       "<!-- 1 -->\r\n",
       "<g id=\"node2\" class=\"node\"><title>1</title>\r\n",
       "<path fill=\"#d739e5\" fill-opacity=\"0.184314\" stroke=\"black\" d=\"M556.5,-306C556.5,-306 362.5,-306 362.5,-306 356.5,-306 350.5,-300 350.5,-294 350.5,-294 350.5,-235 350.5,-235 350.5,-229 356.5,-223 362.5,-223 362.5,-223 556.5,-223 556.5,-223 562.5,-223 568.5,-229 568.5,-235 568.5,-235 568.5,-294 568.5,-294 568.5,-300 562.5,-306 556.5,-306\"/>\r\n",
       "<text text-anchor=\"start\" x=\"358.5\" y=\"-290.8\" font-family=\"Helvetica,sans-Serif\" font-size=\"14.00\">pred_minus_obs_H_b1 ≤ 41.39</text>\r\n",
       "<text text-anchor=\"start\" x=\"422\" y=\"-275.8\" font-family=\"Helvetica,sans-Serif\" font-size=\"14.00\">gini = 0.504</text>\r\n",
       "<text text-anchor=\"start\" x=\"412\" y=\"-260.8\" font-family=\"Helvetica,sans-Serif\" font-size=\"14.00\">samples = 108</text>\r\n",
       "<text text-anchor=\"start\" x=\"395\" y=\"-245.8\" font-family=\"Helvetica,sans-Serif\" font-size=\"14.00\">value = [1, 48, 0, 59]</text>\r\n",
       "<text text-anchor=\"start\" x=\"429\" y=\"-230.8\" font-family=\"Helvetica,sans-Serif\" font-size=\"14.00\">class = s </text>\r\n",
       "</g>\r\n",
       "<!-- 0&#45;&gt;1 -->\r\n",
       "<g id=\"edge1\" class=\"edge\"><title>0&#45;&gt;1</title>\r\n",
       "<path fill=\"none\" stroke=\"black\" d=\"M537.867,-341.907C528.373,-332.651 518.2,-322.732 508.432,-313.209\"/>\r\n",
       "<polygon fill=\"black\" stroke=\"black\" points=\"510.663,-310.496 501.06,-306.021 505.776,-315.508 510.663,-310.496\"/>\r\n",
       "<text text-anchor=\"middle\" x=\"501.376\" y=\"-327.319\" font-family=\"Helvetica,sans-Serif\" font-size=\"14.00\">True</text>\r\n",
       "</g>\r\n",
       "<!-- 8 -->\r\n",
       "<g id=\"node9\" class=\"node\"><title>8</title>\r\n",
       "<path fill=\"#e58139\" fill-opacity=\"0.301961\" stroke=\"black\" d=\"M797.5,-306C797.5,-306 603.5,-306 603.5,-306 597.5,-306 591.5,-300 591.5,-294 591.5,-294 591.5,-235 591.5,-235 591.5,-229 597.5,-223 603.5,-223 603.5,-223 797.5,-223 797.5,-223 803.5,-223 809.5,-229 809.5,-235 809.5,-235 809.5,-294 809.5,-294 809.5,-300 803.5,-306 797.5,-306\"/>\r\n",
       "<text text-anchor=\"start\" x=\"599.5\" y=\"-290.8\" font-family=\"Helvetica,sans-Serif\" font-size=\"14.00\">pred_minus_obs_H_b8 ≤ 0.475</text>\r\n",
       "<text text-anchor=\"start\" x=\"663\" y=\"-275.8\" font-family=\"Helvetica,sans-Serif\" font-size=\"14.00\">gini = 0.484</text>\r\n",
       "<text text-anchor=\"start\" x=\"657\" y=\"-260.8\" font-family=\"Helvetica,sans-Serif\" font-size=\"14.00\">samples = 90</text>\r\n",
       "<text text-anchor=\"start\" x=\"636\" y=\"-245.8\" font-family=\"Helvetica,sans-Serif\" font-size=\"14.00\">value = [53, 0, 37, 0]</text>\r\n",
       "<text text-anchor=\"start\" x=\"670\" y=\"-230.8\" font-family=\"Helvetica,sans-Serif\" font-size=\"14.00\">class = d </text>\r\n",
       "</g>\r\n",
       "<!-- 0&#45;&gt;8 -->\r\n",
       "<g id=\"edge8\" class=\"edge\"><title>0&#45;&gt;8</title>\r\n",
       "<path fill=\"none\" stroke=\"black\" d=\"M621.48,-341.907C631.053,-332.651 641.311,-322.732 651.16,-313.209\"/>\r\n",
       "<polygon fill=\"black\" stroke=\"black\" points=\"653.838,-315.488 658.594,-306.021 648.972,-310.456 653.838,-315.488\"/>\r\n",
       "<text text-anchor=\"middle\" x=\"658.174\" y=\"-327.317\" font-family=\"Helvetica,sans-Serif\" font-size=\"14.00\">False</text>\r\n",
       "</g>\r\n",
       "<!-- 2 -->\r\n",
       "<g id=\"node3\" class=\"node\"><title>2</title>\r\n",
       "<path fill=\"#47e539\" fill-opacity=\"0.976471\" stroke=\"black\" d=\"M314,-187C314,-187 115,-187 115,-187 109,-187 103,-181 103,-175 103,-175 103,-116 103,-116 103,-110 109,-104 115,-104 115,-104 314,-104 314,-104 320,-104 326,-110 326,-116 326,-116 326,-175 326,-175 326,-181 320,-187 314,-187\"/>\r\n",
       "<text text-anchor=\"start\" x=\"111\" y=\"-171.8\" font-family=\"Helvetica,sans-Serif\" font-size=\"14.00\">pred_minus_obs_S_b4 ≤ &#45;0.815</text>\r\n",
       "<text text-anchor=\"start\" x=\"177\" y=\"-156.8\" font-family=\"Helvetica,sans-Serif\" font-size=\"14.00\">gini = 0.042</text>\r\n",
       "<text text-anchor=\"start\" x=\"171\" y=\"-141.8\" font-family=\"Helvetica,sans-Serif\" font-size=\"14.00\">samples = 47</text>\r\n",
       "<text text-anchor=\"start\" x=\"154\" y=\"-126.8\" font-family=\"Helvetica,sans-Serif\" font-size=\"14.00\">value = [0, 46, 0, 1]</text>\r\n",
       "<text text-anchor=\"start\" x=\"184\" y=\"-111.8\" font-family=\"Helvetica,sans-Serif\" font-size=\"14.00\">class = h </text>\r\n",
       "</g>\r\n",
       "<!-- 1&#45;&gt;2 -->\r\n",
       "<g id=\"edge2\" class=\"edge\"><title>1&#45;&gt;2</title>\r\n",
       "<path fill=\"none\" stroke=\"black\" d=\"M374.498,-222.907C353.215,-212.743 330.259,-201.781 308.564,-191.42\"/>\r\n",
       "<polygon fill=\"black\" stroke=\"black\" points=\"309.883,-188.172 299.351,-187.021 306.867,-194.489 309.883,-188.172\"/>\r\n",
       "</g>\r\n",
       "<!-- 5 -->\r\n",
       "<g id=\"node6\" class=\"node\"><title>5</title>\r\n",
       "<path fill=\"#d739e5\" fill-opacity=\"0.949020\" stroke=\"black\" d=\"M563,-187C563,-187 356,-187 356,-187 350,-187 344,-181 344,-175 344,-175 344,-116 344,-116 344,-110 350,-104 356,-104 356,-104 563,-104 563,-104 569,-104 575,-110 575,-116 575,-116 575,-175 575,-175 575,-181 569,-187 563,-187\"/>\r\n",
       "<text text-anchor=\"start\" x=\"352\" y=\"-171.8\" font-family=\"Helvetica,sans-Serif\" font-size=\"14.00\">pred_minus_obs_H_b7 ≤ &#45;17.815</text>\r\n",
       "<text text-anchor=\"start\" x=\"422\" y=\"-156.8\" font-family=\"Helvetica,sans-Serif\" font-size=\"14.00\">gini = 0.095</text>\r\n",
       "<text text-anchor=\"start\" x=\"416\" y=\"-141.8\" font-family=\"Helvetica,sans-Serif\" font-size=\"14.00\">samples = 61</text>\r\n",
       "<text text-anchor=\"start\" x=\"399\" y=\"-126.8\" font-family=\"Helvetica,sans-Serif\" font-size=\"14.00\">value = [1, 2, 0, 58]</text>\r\n",
       "<text text-anchor=\"start\" x=\"429\" y=\"-111.8\" font-family=\"Helvetica,sans-Serif\" font-size=\"14.00\">class = s </text>\r\n",
       "</g>\r\n",
       "<!-- 1&#45;&gt;5 -->\r\n",
       "<g id=\"edge5\" class=\"edge\"><title>1&#45;&gt;5</title>\r\n",
       "<path fill=\"none\" stroke=\"black\" d=\"M459.5,-222.907C459.5,-214.649 459.5,-205.864 459.5,-197.302\"/>\r\n",
       "<polygon fill=\"black\" stroke=\"black\" points=\"463,-197.021 459.5,-187.021 456,-197.021 463,-197.021\"/>\r\n",
       "</g>\r\n",
       "<!-- 3 -->\r\n",
       "<g id=\"node4\" class=\"node\"><title>3</title>\r\n",
       "<path fill=\"#47e539\" stroke=\"black\" d=\"M125,-68C125,-68 12,-68 12,-68 6,-68 0,-62 0,-56 0,-56 0,-12 0,-12 0,-6 6,-0 12,-0 12,-0 125,-0 125,-0 131,-0 137,-6 137,-12 137,-12 137,-56 137,-56 137,-62 131,-68 125,-68\"/>\r\n",
       "<text text-anchor=\"start\" x=\"39.5\" y=\"-52.8\" font-family=\"Helvetica,sans-Serif\" font-size=\"14.00\">gini = 0.0</text>\r\n",
       "<text text-anchor=\"start\" x=\"25\" y=\"-37.8\" font-family=\"Helvetica,sans-Serif\" font-size=\"14.00\">samples = 46</text>\r\n",
       "<text text-anchor=\"start\" x=\"8\" y=\"-22.8\" font-family=\"Helvetica,sans-Serif\" font-size=\"14.00\">value = [0, 46, 0, 0]</text>\r\n",
       "<text text-anchor=\"start\" x=\"38\" y=\"-7.8\" font-family=\"Helvetica,sans-Serif\" font-size=\"14.00\">class = h </text>\r\n",
       "</g>\r\n",
       "<!-- 2&#45;&gt;3 -->\r\n",
       "<g id=\"edge3\" class=\"edge\"><title>2&#45;&gt;3</title>\r\n",
       "<path fill=\"none\" stroke=\"black\" d=\"M160.135,-103.726C147.366,-94.1494 133.781,-83.9611 121.092,-74.4438\"/>\r\n",
       "<polygon fill=\"black\" stroke=\"black\" points=\"122.999,-71.4996 112.899,-68.2996 118.799,-77.0996 122.999,-71.4996\"/>\r\n",
       "</g>\r\n",
       "<!-- 4 -->\r\n",
       "<g id=\"node5\" class=\"node\"><title>4</title>\r\n",
       "<path fill=\"#d739e5\" stroke=\"black\" d=\"M271.5,-68C271.5,-68 167.5,-68 167.5,-68 161.5,-68 155.5,-62 155.5,-56 155.5,-56 155.5,-12 155.5,-12 155.5,-6 161.5,-0 167.5,-0 167.5,-0 271.5,-0 271.5,-0 277.5,-0 283.5,-6 283.5,-12 283.5,-12 283.5,-56 283.5,-56 283.5,-62 277.5,-68 271.5,-68\"/>\r\n",
       "<text text-anchor=\"start\" x=\"190.5\" y=\"-52.8\" font-family=\"Helvetica,sans-Serif\" font-size=\"14.00\">gini = 0.0</text>\r\n",
       "<text text-anchor=\"start\" x=\"180\" y=\"-37.8\" font-family=\"Helvetica,sans-Serif\" font-size=\"14.00\">samples = 1</text>\r\n",
       "<text text-anchor=\"start\" x=\"163.5\" y=\"-22.8\" font-family=\"Helvetica,sans-Serif\" font-size=\"14.00\">value = [0, 0, 0, 1]</text>\r\n",
       "<text text-anchor=\"start\" x=\"189\" y=\"-7.8\" font-family=\"Helvetica,sans-Serif\" font-size=\"14.00\">class = s </text>\r\n",
       "</g>\r\n",
       "<!-- 2&#45;&gt;4 -->\r\n",
       "<g id=\"edge4\" class=\"edge\"><title>2&#45;&gt;4</title>\r\n",
       "<path fill=\"none\" stroke=\"black\" d=\"M216.362,-103.726C216.737,-95.5175 217.132,-86.8595 217.511,-78.56\"/>\r\n",
       "<polygon fill=\"black\" stroke=\"black\" points=\"221.02,-78.4489 217.979,-68.2996 214.027,-78.1295 221.02,-78.4489\"/>\r\n",
       "</g>\r\n",
       "<!-- 6 -->\r\n",
       "<g id=\"node7\" class=\"node\"><title>6</title>\r\n",
       "<path fill=\"#47e539\" stroke=\"black\" d=\"M434.5,-68C434.5,-68 330.5,-68 330.5,-68 324.5,-68 318.5,-62 318.5,-56 318.5,-56 318.5,-12 318.5,-12 318.5,-6 324.5,-0 330.5,-0 330.5,-0 434.5,-0 434.5,-0 440.5,-0 446.5,-6 446.5,-12 446.5,-12 446.5,-56 446.5,-56 446.5,-62 440.5,-68 434.5,-68\"/>\r\n",
       "<text text-anchor=\"start\" x=\"353.5\" y=\"-52.8\" font-family=\"Helvetica,sans-Serif\" font-size=\"14.00\">gini = 0.0</text>\r\n",
       "<text text-anchor=\"start\" x=\"343\" y=\"-37.8\" font-family=\"Helvetica,sans-Serif\" font-size=\"14.00\">samples = 2</text>\r\n",
       "<text text-anchor=\"start\" x=\"326.5\" y=\"-22.8\" font-family=\"Helvetica,sans-Serif\" font-size=\"14.00\">value = [0, 2, 0, 0]</text>\r\n",
       "<text text-anchor=\"start\" x=\"352\" y=\"-7.8\" font-family=\"Helvetica,sans-Serif\" font-size=\"14.00\">class = h </text>\r\n",
       "</g>\r\n",
       "<!-- 5&#45;&gt;6 -->\r\n",
       "<g id=\"edge6\" class=\"edge\"><title>5&#45;&gt;6</title>\r\n",
       "<path fill=\"none\" stroke=\"black\" d=\"M430.828,-103.726C424.607,-94.879 418.018,-85.51 411.774,-76.6303\"/>\r\n",
       "<polygon fill=\"black\" stroke=\"black\" points=\"414.531,-74.4664 405.916,-68.2996 408.805,-78.4929 414.531,-74.4664\"/>\r\n",
       "</g>\r\n",
       "<!-- 7 -->\r\n",
       "<g id=\"node8\" class=\"node\"><title>7</title>\r\n",
       "<path fill=\"#d739e5\" fill-opacity=\"0.984314\" stroke=\"black\" d=\"M590,-68C590,-68 477,-68 477,-68 471,-68 465,-62 465,-56 465,-56 465,-12 465,-12 465,-6 471,-0 477,-0 477,-0 590,-0 590,-0 596,-0 602,-6 602,-12 602,-12 602,-56 602,-56 602,-62 596,-68 590,-68\"/>\r\n",
       "<text text-anchor=\"start\" x=\"496\" y=\"-52.8\" font-family=\"Helvetica,sans-Serif\" font-size=\"14.00\">gini = 0.033</text>\r\n",
       "<text text-anchor=\"start\" x=\"490\" y=\"-37.8\" font-family=\"Helvetica,sans-Serif\" font-size=\"14.00\">samples = 59</text>\r\n",
       "<text text-anchor=\"start\" x=\"473\" y=\"-22.8\" font-family=\"Helvetica,sans-Serif\" font-size=\"14.00\">value = [1, 0, 0, 58]</text>\r\n",
       "<text text-anchor=\"start\" x=\"503\" y=\"-7.8\" font-family=\"Helvetica,sans-Serif\" font-size=\"14.00\">class = s </text>\r\n",
       "</g>\r\n",
       "<!-- 5&#45;&gt;7 -->\r\n",
       "<g id=\"edge7\" class=\"edge\"><title>5&#45;&gt;7</title>\r\n",
       "<path fill=\"none\" stroke=\"black\" d=\"M487.055,-103.726C493.034,-94.879 499.365,-85.51 505.366,-76.6303\"/>\r\n",
       "<polygon fill=\"black\" stroke=\"black\" points=\"508.297,-78.5448 510.996,-68.2996 502.497,-74.6253 508.297,-78.5448\"/>\r\n",
       "</g>\r\n",
       "<!-- 9 -->\r\n",
       "<g id=\"node10\" class=\"node\"><title>9</title>\r\n",
       "<path fill=\"#399de5\" fill-opacity=\"0.972549\" stroke=\"black\" d=\"M796,-187C796,-187 605,-187 605,-187 599,-187 593,-181 593,-175 593,-175 593,-116 593,-116 593,-110 599,-104 605,-104 605,-104 796,-104 796,-104 802,-104 808,-110 808,-116 808,-116 808,-175 808,-175 808,-181 802,-187 796,-187\"/>\r\n",
       "<text text-anchor=\"start\" x=\"601\" y=\"-171.8\" font-family=\"Helvetica,sans-Serif\" font-size=\"14.00\">pred_minus_obs_S_b3 ≤ &#45;1.83</text>\r\n",
       "<text text-anchor=\"start\" x=\"663\" y=\"-156.8\" font-family=\"Helvetica,sans-Serif\" font-size=\"14.00\">gini = 0.051</text>\r\n",
       "<text text-anchor=\"start\" x=\"657\" y=\"-141.8\" font-family=\"Helvetica,sans-Serif\" font-size=\"14.00\">samples = 38</text>\r\n",
       "<text text-anchor=\"start\" x=\"640\" y=\"-126.8\" font-family=\"Helvetica,sans-Serif\" font-size=\"14.00\">value = [1, 0, 37, 0]</text>\r\n",
       "<text text-anchor=\"start\" x=\"670\" y=\"-111.8\" font-family=\"Helvetica,sans-Serif\" font-size=\"14.00\">class = s </text>\r\n",
       "</g>\r\n",
       "<!-- 8&#45;&gt;9 -->\r\n",
       "<g id=\"edge9\" class=\"edge\"><title>8&#45;&gt;9</title>\r\n",
       "<path fill=\"none\" stroke=\"black\" d=\"M700.5,-222.907C700.5,-214.649 700.5,-205.864 700.5,-197.302\"/>\r\n",
       "<polygon fill=\"black\" stroke=\"black\" points=\"704,-197.021 700.5,-187.021 697,-197.021 704,-197.021\"/>\r\n",
       "</g>\r\n",
       "<!-- 12 -->\r\n",
       "<g id=\"node13\" class=\"node\"><title>12</title>\r\n",
       "<path fill=\"#e58139\" stroke=\"black\" d=\"M951,-179.5C951,-179.5 838,-179.5 838,-179.5 832,-179.5 826,-173.5 826,-167.5 826,-167.5 826,-123.5 826,-123.5 826,-117.5 832,-111.5 838,-111.5 838,-111.5 951,-111.5 951,-111.5 957,-111.5 963,-117.5 963,-123.5 963,-123.5 963,-167.5 963,-167.5 963,-173.5 957,-179.5 951,-179.5\"/>\r\n",
       "<text text-anchor=\"start\" x=\"865.5\" y=\"-164.3\" font-family=\"Helvetica,sans-Serif\" font-size=\"14.00\">gini = 0.0</text>\r\n",
       "<text text-anchor=\"start\" x=\"851\" y=\"-149.3\" font-family=\"Helvetica,sans-Serif\" font-size=\"14.00\">samples = 52</text>\r\n",
       "<text text-anchor=\"start\" x=\"834\" y=\"-134.3\" font-family=\"Helvetica,sans-Serif\" font-size=\"14.00\">value = [52, 0, 0, 0]</text>\r\n",
       "<text text-anchor=\"start\" x=\"864\" y=\"-119.3\" font-family=\"Helvetica,sans-Serif\" font-size=\"14.00\">class = d </text>\r\n",
       "</g>\r\n",
       "<!-- 8&#45;&gt;12 -->\r\n",
       "<g id=\"edge12\" class=\"edge\"><title>8&#45;&gt;12</title>\r\n",
       "<path fill=\"none\" stroke=\"black\" d=\"M767.807,-222.907C788.208,-210.604 810.548,-197.131 830.71,-184.971\"/>\r\n",
       "<polygon fill=\"black\" stroke=\"black\" points=\"832.75,-187.829 839.505,-179.667 829.134,-181.834 832.75,-187.829\"/>\r\n",
       "</g>\r\n",
       "<!-- 10 -->\r\n",
       "<g id=\"node11\" class=\"node\"><title>10</title>\r\n",
       "<path fill=\"#399de5\" stroke=\"black\" d=\"M753,-68C753,-68 640,-68 640,-68 634,-68 628,-62 628,-56 628,-56 628,-12 628,-12 628,-6 634,-0 640,-0 640,-0 753,-0 753,-0 759,-0 765,-6 765,-12 765,-12 765,-56 765,-56 765,-62 759,-68 753,-68\"/>\r\n",
       "<text text-anchor=\"start\" x=\"667.5\" y=\"-52.8\" font-family=\"Helvetica,sans-Serif\" font-size=\"14.00\">gini = 0.0</text>\r\n",
       "<text text-anchor=\"start\" x=\"653\" y=\"-37.8\" font-family=\"Helvetica,sans-Serif\" font-size=\"14.00\">samples = 37</text>\r\n",
       "<text text-anchor=\"start\" x=\"636\" y=\"-22.8\" font-family=\"Helvetica,sans-Serif\" font-size=\"14.00\">value = [0, 0, 37, 0]</text>\r\n",
       "<text text-anchor=\"start\" x=\"666\" y=\"-7.8\" font-family=\"Helvetica,sans-Serif\" font-size=\"14.00\">class = s </text>\r\n",
       "</g>\r\n",
       "<!-- 9&#45;&gt;10 -->\r\n",
       "<g id=\"edge10\" class=\"edge\"><title>9&#45;&gt;10</title>\r\n",
       "<path fill=\"none\" stroke=\"black\" d=\"M699.011,-103.726C698.711,-95.5175 698.394,-86.8595 698.091,-78.56\"/>\r\n",
       "<polygon fill=\"black\" stroke=\"black\" points=\"701.579,-78.1651 697.716,-68.2996 694.584,-78.4207 701.579,-78.1651\"/>\r\n",
       "</g>\r\n",
       "<!-- 11 -->\r\n",
       "<g id=\"node12\" class=\"node\"><title>11</title>\r\n",
       "<path fill=\"#e58139\" stroke=\"black\" d=\"M899.5,-68C899.5,-68 795.5,-68 795.5,-68 789.5,-68 783.5,-62 783.5,-56 783.5,-56 783.5,-12 783.5,-12 783.5,-6 789.5,-0 795.5,-0 795.5,-0 899.5,-0 899.5,-0 905.5,-0 911.5,-6 911.5,-12 911.5,-12 911.5,-56 911.5,-56 911.5,-62 905.5,-68 899.5,-68\"/>\r\n",
       "<text text-anchor=\"start\" x=\"818.5\" y=\"-52.8\" font-family=\"Helvetica,sans-Serif\" font-size=\"14.00\">gini = 0.0</text>\r\n",
       "<text text-anchor=\"start\" x=\"808\" y=\"-37.8\" font-family=\"Helvetica,sans-Serif\" font-size=\"14.00\">samples = 1</text>\r\n",
       "<text text-anchor=\"start\" x=\"791.5\" y=\"-22.8\" font-family=\"Helvetica,sans-Serif\" font-size=\"14.00\">value = [1, 0, 0, 0]</text>\r\n",
       "<text text-anchor=\"start\" x=\"817\" y=\"-7.8\" font-family=\"Helvetica,sans-Serif\" font-size=\"14.00\">class = d </text>\r\n",
       "</g>\r\n",
       "<!-- 9&#45;&gt;11 -->\r\n",
       "<g id=\"edge11\" class=\"edge\"><title>9&#45;&gt;11</title>\r\n",
       "<path fill=\"none\" stroke=\"black\" d=\"M755.237,-103.726C768.094,-94.1494 781.771,-83.9611 794.548,-74.4438\"/>\r\n",
       "<polygon fill=\"black\" stroke=\"black\" points=\"796.868,-77.0803 802.796,-68.2996 792.686,-71.4666 796.868,-77.0803\"/>\r\n",
       "</g>\r\n",
       "</g>\r\n",
       "</svg>\r\n"
      ],
      "text/plain": [
       "<graphviz.files.Source at 0x2195a1dbf98>"
      ]
     },
     "execution_count": 11,
     "metadata": {},
     "output_type": "execute_result"
    }
   ],
   "source": [
    "dot_data = tree.export_graphviz(clf, out_file=None, \n",
    "feature_names=features,class_names=Y_train,filled=True, rounded=True,special_characters=True)\n",
    "graph = graphviz.Source(dot_data)\n",
    "graph\n"
   ]
  }
 ],
 "metadata": {
  "kernelspec": {
   "display_name": "Python 3",
   "language": "python",
   "name": "python3"
  },
  "language_info": {
   "codemirror_mode": {
    "name": "ipython",
    "version": 3
   },
   "file_extension": ".py",
   "mimetype": "text/x-python",
   "name": "python",
   "nbconvert_exporter": "python",
   "pygments_lexer": "ipython3",
   "version": "3.6.4"
  }
 },
 "nbformat": 4,
 "nbformat_minor": 2
}
